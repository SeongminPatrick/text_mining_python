{
 "cells": [
  {
   "cell_type": "markdown",
   "metadata": {},
   "source": [
    "# catory.kr 크롤링 실습"
   ]
  },
  {
   "cell_type": "markdown",
   "metadata": {},
   "source": [
    "* 목표 계시판 URL\n",
    "http://catory.kr/index.php?mid=fcNews&category=143"
   ]
  },
  {
   "cell_type": "code",
   "execution_count": 1,
   "metadata": {
    "scrolled": true
   },
   "outputs": [
    {
     "name": "stdout",
     "output_type": "stream",
     "text": [
      "<class 'requests.models.Response'>\n",
      "<!DOCTYPE html>\n",
      "<html lang=\"ko\">\n",
      "<head>\n",
      "<!-- META -->\n",
      "<meta charset=\"utf-8\">\n",
      "<meta name=\"Generator\" content=\"XpressEngine\">\n",
      "<meta http-equiv=\"X-UA-Compatible\" content=\"IE=edge\">\n",
      "<!-- TITLE -->\n",
      "<title>\n"
     ]
    }
   ],
   "source": [
    "import requests\n",
    "resp = requests.get(\"http://catory.kr/index.php?mid=fcNews&category=143&page=2\")\n",
    "#print(type(resp))\n",
    "html = resp.text\n",
    "print(html[:200])"
   ]
  },
  {
   "cell_type": "code",
   "execution_count": 7,
   "metadata": {},
   "outputs": [],
   "source": [
    "from bs4 import BeautifulSoup\n",
    "soup = BeautifulSoup(html, \"lxml\")\n",
    "post_link_elems = soup.find_all(\"a\", class_=\"hx\")\n"
   ]
  },
  {
   "cell_type": "code",
   "execution_count": 22,
   "metadata": {},
   "outputs": [
    {
     "data": {
      "text/plain": [
       "<a class=\"hx\" data-viewer=\"/index.php?mid=fcNews&amp;category=143&amp;document_srl=4270&amp;listStyle=viewer\" href=\"/index.php?mid=fcNews&amp;category=143&amp;page=2&amp;document_srl=4270\"><span class=\"blind\">Read More</span></a>"
      ]
     },
     "execution_count": 22,
     "metadata": {},
     "output_type": "execute_result"
    }
   ],
   "source": [
    "post_link_elems[0]"
   ]
  },
  {
   "cell_type": "code",
   "execution_count": 23,
   "metadata": {
    "scrolled": false
   },
   "outputs": [
    {
     "name": "stdout",
     "output_type": "stream",
     "text": [
      "http://www.catory.kr/index.php?mid=fcNews&category=143&page=2&document_srl=4270\n",
      "http://www.catory.kr/index.php?mid=fcNews&category=143&page=2&document_srl=4016\n",
      "http://www.catory.kr/index.php?mid=fcNews&category=143&page=2&document_srl=3417\n",
      "http://www.catory.kr/index.php?mid=fcNews&category=143&page=2&document_srl=3395\n",
      "http://www.catory.kr/index.php?mid=fcNews&category=143&page=2&document_srl=3295\n",
      "http://www.catory.kr/index.php?mid=fcNews&category=143&page=2&document_srl=3280\n",
      "http://www.catory.kr/index.php?mid=fcNews&category=143&page=2&document_srl=3273\n",
      "http://www.catory.kr/index.php?mid=fcNews&category=143&page=2&document_srl=3267\n",
      "http://www.catory.kr/index.php?mid=fcNews&category=143&page=2&document_srl=3255\n",
      "http://www.catory.kr/index.php?mid=fcNews&category=143&page=2&document_srl=3087\n",
      "http://www.catory.kr/index.php?mid=fcNews&category=143&page=2&document_srl=2978\n",
      "http://www.catory.kr/index.php?mid=fcNews&category=143&page=2&document_srl=2737\n",
      "http://www.catory.kr/index.php?mid=fcNews&category=143&page=2&document_srl=2541\n",
      "http://www.catory.kr/index.php?mid=fcNews&category=143&page=2&document_srl=2410\n",
      "http://www.catory.kr/index.php?mid=fcNews&category=143&page=2&document_srl=2376\n"
     ]
    }
   ],
   "source": [
    "TOP_URL = \"http://www.catory.kr\"\n",
    "for elem in post_link_elems:\n",
    "    post_link = TOP_URL + elem[\"href\"]\n",
    "    print(post_link)\n",
    "    "
   ]
  },
  {
   "cell_type": "code",
   "execution_count": null,
   "metadata": {
    "collapsed": true
   },
   "outputs": [],
   "source": [
    "import time\n",
    "\n",
    "USER_AGENT = \"Mozilla/5.0 (Windows NT 6.1) AppleWebKit/537.36 \" + \\\n",
    "    \"(KHTML, like Gecko) Chrome/41.0.2228.0 Safari/537.36\"\n",
    "HEADERS = {\"User-Agent\": USER_AGENT}\n",
    "TOP_URL = \"http://catory.kr\"\n",
    "PAGE_URL_TMPL = \"http://catory.kr/index.php?mid=fcNews&category=143&page={}\"\n",
    "PAGING_END_PAT = \"게시물이 없습니다.\"\n",
    "PAUSE_INT = 1.5\n",
    "OUTPUT_FILE_NAME = \"../data/crawling/catory-cat-news.txt\"\n",
    "PAUSE = 1.5 "
   ]
  },
  {
   "cell_type": "code",
   "execution_count": null,
   "metadata": {
    "collapsed": true
   },
   "outputs": [],
   "source": [
    "\n",
    "\n",
    "\n",
    "post_links = []\n",
    "post_link_elems = soup.find_all(\"a\", class_=\"hx\")\n",
    "page_num = 1\n",
    "\n",
    "while True:\n",
    "    paging_url = PAGE_URL_TMPL.format(page_num)\n",
    "    resp = requests.get(paging_url, headers=HEADERS)\n",
    "    html = resp.text\n",
    "    \n",
    "    \n",
    "    if PAGING_END_PAT in html:\n",
    "        break\n",
    "        \n",
    "    soup = BeautifulSoup(html, \"lxml\")\n",
    "    post_link_elems = soup.find_all(\"h1\", class_=\"noyebbs-head-title\")\n",
    "    for elem in post_link_elems:\n",
    "        post_link = TOP_URL + elem[\"href\"]\n",
    "        post_links.append(post_link)\n",
    "        #print(post_link)\n",
    "    \n",
    "    page_num += 1\n",
    "    time.sleep(PAUSE)\n",
    "    \n",
    "    "
   ]
  },
  {
   "cell_type": "code",
   "execution_count": null,
   "metadata": {
    "collapsed": true
   },
   "outputs": [],
   "source": [
    "#print(\"\\n\".join(post_links))"
   ]
  },
  {
   "cell_type": "code",
   "execution_count": null,
   "metadata": {
    "collapsed": true
   },
   "outputs": [],
   "source": [
    "for post_link in post_links:\n",
    "    resp = requests.get(post_link, headers=HEADERS)\n",
    "    html = resp.text\n",
    "    soup = BeautifulSoup(html, \"lxml\")\n",
    "    \n",
    "    title_elem = soup.find(\"h1\", class_=\"noyebbs-head-title\")\n",
    "   "
   ]
  },
  {
   "cell_type": "code",
   "execution_count": null,
   "metadata": {
    "collapsed": true
   },
   "outputs": [],
   "source": [
    "soup.find(\"div\", class_=\"noyebbs-head-title\")"
   ]
  },
  {
   "cell_type": "code",
   "execution_count": null,
   "metadata": {},
   "outputs": [],
   "source": [
    " title = title_elem.string\n",
    "                               \n",
    "    body_elem = soup.find(\"div\", class_ = re.compile(\"^document_\"))\n",
    "    body_elem.text\n",
    "                               "
   ]
  }
 ],
 "metadata": {
  "kernelspec": {
   "display_name": "Python 3",
   "language": "python",
   "name": "python3"
  },
  "language_info": {
   "codemirror_mode": {
    "name": "ipython",
    "version": 3
   },
   "file_extension": ".py",
   "mimetype": "text/x-python",
   "name": "python",
   "nbconvert_exporter": "python",
   "pygments_lexer": "ipython3",
   "version": "3.6.1"
  }
 },
 "nbformat": 4,
 "nbformat_minor": 2
}
