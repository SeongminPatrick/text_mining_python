{
 "cells": [
  {
   "cell_type": "markdown",
   "metadata": {},
   "source": [
    "# TSV 형식 뉴스 기사 행태소 분석"
   ]
  },
  {
   "cell_type": "code",
   "execution_count": 1,
   "metadata": {
    "collapsed": true
   },
   "outputs": [],
   "source": [
    "# 형태소 분석 함수\n",
    "import re\n",
    "import ujson\n",
    "from konlpy.tag import Komoran\n",
    "\n",
    "\n",
    "def split_sentences(text):\n",
    "    all_sentences = []\n",
    "    lines = [line for line in text.strip().splitlines() if line.strip]\n",
    "    \n",
    "    for line in lines:\n",
    "        sentences = re.split(\"(?<=[.?!]) \", line)\n",
    "        all_sentences += sentences\n",
    "    \n",
    "    return all_sentences\n",
    "\n",
    "\n",
    "def get_morph_anal(analyzer, text):\n",
    "    sent_morph_anals = []\n",
    "    sentences = split_sentences(text)\n",
    "    \n",
    "    for sentence in sentences:\n",
    "        sent_morph_anal = analyzer.pos(sentence)\n",
    "        sent_morph_anals.append(sent_morph_anal)\n",
    "        \n",
    "    return sent_morph_anals\n",
    "\n",
    "\n",
    "def parse_line(line):\n",
    "    \"\"\"주어진 TSV라인을 개별 항목들로 분절하여 돌려준다\"\"\"\n",
    "\n",
    "    subject, article_id, title, body, date_time, url = \\\n",
    "        line.strip().split(\"\\t\")\n",
    "    return  subject, article_id, title, body, date_time, url\n",
    "\n",
    "def write_ma_article(output_file, subject, article_id, title, body, \n",
    "                     date_time, url, title_ma, body_ma):\n",
    "    \"\"\"기사 항목들을 주어진 출력 파일에 기록한다\"\"\"\n",
    "    json_obj = {\n",
    "         \"subject\":  subject, \n",
    "         \"article_id\":   article_id, \n",
    "         \"title\":   title, \n",
    "         \"body\":   body, \n",
    "         \"date_time\":  date_time, \n",
    "         \"url\":  url, \n",
    "         \"title_ma\":  title_ma, \n",
    "         \"body_ma\":  body_ma\n",
    "    }\n",
    "    json_str = ujson.dumps(json_obj, ensure_ascii= False)\n",
    "    print(json_str, file=output_file)\n",
    "\n",
    "def main():\n",
    "    \"\"\"뉴스 기사 형태소 분석\"\"\"\n",
    "    \n",
    "    komoran = Komoran()\n",
    "    input_file_name = \"../data/news/news.txt\"\n",
    "    output_file_name = \"../data/news/news.ma.txt\"\n",
    "    \n",
    "    with open(input_file_name, \"r\", encoding=\"utf-8\") as input_file, \\\n",
    "         open(output_file_name, \"w\", encoding=\"utf-8\") as output_file:\n",
    "        for line in input_file:\n",
    "            subject, article_id, title, body, date_time, url = parse_line(line)     # 변수 이름짓기가 고통스럽다. \n",
    "            title_ma = get_morph_anal(komoran, title)\n",
    "            body_ma = get_morph_anal(komoran, body)\n",
    "            write_ma_article(output_file, subject, article_id, title, body, date_time, url, title_ma, body_ma)\n",
    "            \n",
    "main()         \n",
    "            "
   ]
  }
 ],
 "metadata": {
  "kernelspec": {
   "display_name": "Python 3",
   "language": "python",
   "name": "python3"
  },
  "language_info": {
   "codemirror_mode": {
    "name": "ipython",
    "version": 3
   },
   "file_extension": ".py",
   "mimetype": "text/x-python",
   "name": "python",
   "nbconvert_exporter": "python",
   "pygments_lexer": "ipython3",
   "version": "3.6.1"
  }
 },
 "nbformat": 4,
 "nbformat_minor": 2
}
