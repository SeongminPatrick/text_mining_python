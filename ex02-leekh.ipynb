{
 "cells": [
  {
   "cell_type": "markdown",
   "metadata": {},
   "source": [
    "# 제2강 실습"
   ]
  },
  {
   "cell_type": "markdown",
   "metadata": {},
   "source": [
    "## collections 모듈"
   ]
  },
  {
   "cell_type": "code",
   "execution_count": null,
   "metadata": {
    "collapsed": true
   },
   "outputs": [],
   "source": [
    "# dictionary를 이용한 빈도 계수\n",
    "\n",
    "wordform_counts = {}\n",
    "a_string = \"우리집 강아지는 복술 강아지 학교 갔다 돌아오면 멍멍멍. 우리집 강아지 예뻐.\"\n",
    "wordforms = a_string.split()\n",
    "print(wordforms)\n",
    "\n",
    "for wordform in wordforms:\n",
    "    if wordform in wordform_counts:\n",
    "        wordform_counts[wordform] += 1\n",
    "    else:\n",
    "        wordform_counts[wordform] = 1\n",
    "        \n",
    "    # old_count = wordform_counts[wordform]\n",
    "    # new_count = old_count + 1\n",
    "    # wordform_counts[wordform] = new_count\n",
    "    \n",
    "print(wordform_counts)"
   ]
  },
  {
   "cell_type": "code",
   "execution_count": null,
   "metadata": {
    "collapsed": true
   },
   "outputs": [],
   "source": [
    "# Counter를 이용한 빈도 계수\n",
    "\n",
    "from collections import Counter\n",
    "\n",
    "wordform_counts = Counter()\n",
    "a_string = \"우리집 강아지는 복술 강아지 학교 갔다 돌아오면 멍멍멍. 우리집 강아지 예뻐.\"\n",
    "wordforms = a_string.split()\n",
    "print(wordforms)\n",
    "\n",
    "# for wordform in wordforms:\n",
    "#    wordform_counts[wordform] += 1\n",
    "wordform_counts.update(wordforms)\n",
    "    \n",
    "for wordform, count in wordform_counts.most_common():\n",
    "    print(wordform, count)"
   ]
  },
  {
   "cell_type": "code",
   "execution_count": null,
   "metadata": {
    "collapsed": true
   },
   "outputs": [],
   "source": [
    "# 키가 문자열이고 값이 리스트인 딕셔너리\n",
    "# dictioanry key: 스마트폰 제조사 string, value: 해당 제조사 제조 스마트폰 제품명들 list\n",
    "\n",
    "smartphones = {}\n",
    "smartphones[\"Samsung\"] = []\n",
    "smartphones[\"Samsung\"].append(\"갤럭시 노트 4\")\n",
    "smartphones[\"Samsung\"].append(\"갤럭시 노트 5\")\n",
    "\n",
    "# s_list = smartphones[\"Samsung\"]\n",
    "# s_list.append(\"갤럭시 노트 4\")\n",
    "# s_list.append(\"갤럭시 노트 5\")\n",
    "# smartphones[\"Samsung\"] = s_list"
   ]
  },
  {
   "cell_type": "code",
   "execution_count": null,
   "metadata": {
    "collapsed": true
   },
   "outputs": [],
   "source": [
    "# defaultdict 실험\n",
    "from collections import defaultdict\n",
    "\n",
    "smartphones = defaultdict(list)\n",
    "smartphones[\"Samsung\"].append(\"갤럭시 노트 4\")\n",
    "smartphones[\"Samsung\"].append(\"갤럭시 노트 5\")"
   ]
  },
  {
   "cell_type": "markdown",
   "metadata": {},
   "source": [
    "## itertools 모듈"
   ]
  },
  {
   "cell_type": "code",
   "execution_count": null,
   "metadata": {
    "collapsed": true
   },
   "outputs": [],
   "source": [
    "# combinations()\n",
    "\n",
    "from itertools import combinations\n",
    "\n",
    "a_string = \"무 배추 상추 고구마 무 상추 감자 양파 상추 파 가지 오이 토마토 가지 상추\"\n",
    "uniq_words = set(a_string.split())\n",
    "\n",
    "#for veg1 in uniq_words:\n",
    "#    for veg2 in uniq_words:\n",
    "#        print(veg1, veg2)\n",
    "\n",
    "for word1, word2, word3 in combinations(uniq_words, 3):\n",
    "    print(word1, word2, word3)"
   ]
  },
  {
   "cell_type": "markdown",
   "metadata": {},
   "source": [
    "## split()과 join()"
   ]
  },
  {
   "cell_type": "code",
   "execution_count": null,
   "metadata": {
    "collapsed": true
   },
   "outputs": [],
   "source": [
    "a_string = \"adklfj lkadjf alkjd falkjd falkdjf alkdj f\"\n",
    "a_list = a_string.split()\n",
    "print(a_list)\n",
    "b_string = \" \".join(a_list)\n",
    "print(b_string)\n",
    "c_string = \"@@@\".join(a_list)\n",
    "print(c_string)\n",
    "b_list = c_string.split(\"@@@\")\n",
    "print(b_list)"
   ]
  },
  {
   "cell_type": "markdown",
   "metadata": {},
   "source": [
    "## 텍스트 파일 처리"
   ]
  },
  {
   "cell_type": "code",
   "execution_count": null,
   "metadata": {
    "collapsed": true,
    "scrolled": false
   },
   "outputs": [],
   "source": [
    "# 텍스트 파일을 줄 단위로 읽기\n",
    "\n",
    "input_file_name = \"../data/textproc/seoul_wifi.csv\"\n",
    "\n",
    "with open(input_file_name, \"r\", encoding=\"utf-8-sig\") as input_file:\n",
    "    for line in input_file:\n",
    "        print(line)"
   ]
  },
  {
   "cell_type": "code",
   "execution_count": null,
   "metadata": {
    "collapsed": true
   },
   "outputs": [],
   "source": [
    "# 텍스트 파일을 한꺼번에 읽고 줄 단위로 분절하기\n",
    "\n",
    "input_file_name = \"../data/textproc/seoul_wifi.csv\"\n",
    "\n",
    "with open(input_file_name, \"r\", encoding=\"utf-8-sig\") as input_file:\n",
    "    text = input_file.read()\n",
    "    \n",
    "# lines = text.split(\"\\n\")\n",
    "lines = text.splitlines()\n",
    "print(len(lines))"
   ]
  },
  {
   "cell_type": "code",
   "execution_count": null,
   "metadata": {
    "collapsed": true
   },
   "outputs": [],
   "source": [
    "# 슬라이싱을 이용하여 부분 문자열 얻기\n",
    "\n",
    "s = \"ablkjaldkjfaladkjfxlalkdfj1\"\n",
    "print(s[1:-1])"
   ]
  },
  {
   "cell_type": "code",
   "execution_count": null,
   "metadata": {
    "collapsed": true
   },
   "outputs": [],
   "source": [
    "# 텍스트 파일을 줄 단위로 읽으며 특정 줄만 처리하기\n",
    "\n",
    "input_file_name = \"../data/textproc/seoul_wifi.csv\"\n",
    "\n",
    "with open(input_file_name, \"r\", encoding=\"utf-8-sig\") as input_file:\n",
    "    for line_num, csv_line in enumerate(input_file):\n",
    "        if line_num % 10 == 0:\n",
    "            print(csv_line.strip())"
   ]
  },
  {
   "cell_type": "code",
   "execution_count": null,
   "metadata": {},
   "outputs": [],
   "source": [
    "# TSV 파일을 읽어서 리스트의 딕셔너리에 저장하기\n",
    "\n",
    "# 리스트의 딕셔너리 초기화\n",
    "field_names = [\"구명\", \"유형\", \"지역명\", \"설치위치(X좌표)\", \"설치위치(Y좌표)\",  \n",
    "               \"설치기관(회사)\"]\n",
    "data = {}\n",
    "\n",
    "for field_name in field_names:\n",
    "    data[field_name] = []\n",
    "\n",
    "# TSV 파일 읽어서 데이터 저장히기\n",
    "input_file_name = \"../data/textproc/seoul_wifi.tsv\"\n",
    "\n",
    "with open(input_file_name, \"r\", encoding=\"utf-8\") as input_file:\n",
    "    for line_num, line in list(enumerate(input_file))[:11]:\n",
    "        if line_num == 0:\n",
    "            continue\n",
    "            \n",
    "        line = line.strip()\n",
    "        elems = line.split(\"\\t\")\n",
    "        \n",
    "\n",
    "        for elem, field_name in zip(elems, field_names):\n",
    "            # l = data[field_name]\n",
    "            # l.append(elem)\n",
    "            # data[field_name] = l\n",
    "            data[field_name].append(elem)\n",
    "            \n",
    "print(data)"
   ]
  },
  {
   "cell_type": "code",
   "execution_count": null,
   "metadata": {},
   "outputs": [],
   "source": [
    "# 딕셔너리를 JSON 문자열로 만들기\n",
    "\n",
    "import json\n",
    "\n",
    "dogs = {\n",
    "    \"description\": \"반려견의 종별 특징\",\n",
    "    \"data\": [\n",
    "        {\n",
    "            \"name\": \"코카스파니엘\",\n",
    "            \"feature\": \"귀여운 외모, 아름다운 털, 환경에 잘 적응, 30cm 중반대\"\n",
    "        },\n",
    "        {\n",
    "            \"name\": \"포메리안\",\n",
    "            \"feature\": \"부드러운 털, 말 잘 들으나 흥분 쉽게 함, 26-27cm 이내\"\n",
    "        },\n",
    "        {\n",
    "            \"name\": \"비글\",\n",
    "            \"feature\": \"악마견, 귀여운 외모, 총명함\"\n",
    "        }\n",
    "    ]\n",
    "}\n",
    "\n",
    "esc_str = json.dumps(dogs, ensure_ascii=False)\n",
    "print(esc_str)"
   ]
  }
 ],
 "metadata": {
  "kernelspec": {
   "display_name": "Python 3",
   "language": "python",
   "name": "python3"
  },
  "language_info": {
   "codemirror_mode": {
    "name": "ipython",
    "version": 3
   },
   "file_extension": ".py",
   "mimetype": "text/x-python",
   "name": "python",
   "nbconvert_exporter": "python",
   "pygments_lexer": "ipython3",
   "version": "3.6.1"
  }
 },
 "nbformat": 4,
 "nbformat_minor": 2
}
